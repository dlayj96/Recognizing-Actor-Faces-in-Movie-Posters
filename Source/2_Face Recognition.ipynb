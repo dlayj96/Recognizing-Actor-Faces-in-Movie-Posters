{
 "cells": [
  {
   "cell_type": "markdown",
   "id": "09e816b4",
   "metadata": {},
   "source": [
    "# 패키지 임포트"
   ]
  },
  {
   "cell_type": "code",
   "execution_count": 1,
   "id": "5d5881cb",
   "metadata": {},
   "outputs": [],
   "source": [
    "import cv2\n",
    "import matplotlib.pyplot as plt\n",
    "import os\n",
    "import numpy as np"
   ]
  },
  {
   "cell_type": "markdown",
   "id": "53ac158c",
   "metadata": {},
   "source": [
    "# 얼굴인식 후 저장하기"
   ]
  },
  {
   "cell_type": "code",
   "execution_count": 2,
   "id": "7a28767a",
   "metadata": {},
   "outputs": [
    {
     "name": "stdout",
     "output_type": "stream",
     "text": [
      "Openinig 설경구\n",
      "Openinig 이정재\n"
     ]
    },
    {
     "data": {
      "text/plain": [
       "\"\\ntest_list = np.array(test_list)\\ntest_list = test_list.reshape(-1, 128, 128, 3)\\ntest_list = np.asarray(test_list) / 255.0\\n\\n# 영상 출력\\nplt.figure(figsize = (8, 6))\\nplt.imshow(cv2.cvtColor(img, cv2.COLOR_BGR2RGB))\\nplt.show()\\n# cv2.imshow('image', img)\\n\\n# key = cv2.waitKey(0)\\n# cv2.destroyAllWindows()\\n\""
      ]
     },
     "execution_count": 2,
     "metadata": {},
     "output_type": "execute_result"
    }
   ],
   "source": [
    "# haarcascade 불러오기\n",
    "# Harr-cascade 검출기 : 학습데이터를 이용하여 이미지에서 특정 객체 검출\n",
    "face_cascade = cv2.CascadeClassifier(cv2.data.haarcascades + 'haarcascade_frontalface_default.xml')\n",
    "eye_cascade = cv2.CascadeClassifier(cv2.data.haarcascades + 'haarcascade_eye.xml')\n",
    "\n",
    "classes = os.listdir(\"./data\")\n",
    "\n",
    "for i, cls in enumerate(classes):\n",
    "    filepath = \"./data/\" + cls\n",
    "    \n",
    "    try:\n",
    "        if not os.path.exists(filepath):\n",
    "            continue\n",
    "            #os.mkdir(filepath)\n",
    "    except OSError:\n",
    "        print ('Error: Creating directory. ' +  filepath)\n",
    "        \n",
    "    for el in os.listdir(filepath):\n",
    "        # 이미지 불러오기\n",
    "        n = np.fromfile(filepath + \"/\" + el, np.uint8)\n",
    "        img = cv2.imdecode(n, cv2.IMREAD_COLOR)\n",
    "        gray = cv2.cvtColor(img, cv2.COLOR_RGB2GRAY)\n",
    "        \n",
    "        faces = face_cascade.detectMultiScale(gray, 1.3, 3)\n",
    "        for (x, y, w, h) in faces:\n",
    "            #cv2.rectangle(img, (x, y), (x + w, y + h), (255, 0, 255), 2)\n",
    "\n",
    "            tttest = img[y : y + h, x : x + w]\n",
    "            \n",
    "            #plt.imshow(cv2.cvtColor(tttest, cv2.COLOR_BGR2RGB))\n",
    "            #plt.show()\n",
    "            \n",
    "            save_filepath = filepath + \"_face\"\n",
    "            \n",
    "            try:\n",
    "                if not os.path.exists(save_filepath):\n",
    "                    os.mkdir(save_filepath)\n",
    "            except OSError:\n",
    "                print ('Error: Creating directory. ' +  save_filepath)\n",
    "                \n",
    "            extension = os.path.splitext(el)[1] # 이미지 확장자\n",
    " \n",
    "            result, encoded_img = cv2.imencode(extension, tttest)\n",
    "    \n",
    "            if result:\n",
    "                with open(save_filepath + \"/\" + el, mode='w+b') as f:\n",
    "                    encoded_img.tofile(f)\n",
    "\n",
    "            #cv2.imwrite(save_filepath + \"/\" + el, tttest)"
   ]
  },
  {
   "cell_type": "code",
   "execution_count": null,
   "id": "358996c7",
   "metadata": {},
   "outputs": [],
   "source": []
  }
 ],
 "metadata": {
  "kernelspec": {
   "display_name": "Python 3 (ipykernel)",
   "language": "python",
   "name": "python3"
  },
  "language_info": {
   "codemirror_mode": {
    "name": "ipython",
    "version": 3
   },
   "file_extension": ".py",
   "mimetype": "text/x-python",
   "name": "python",
   "nbconvert_exporter": "python",
   "pygments_lexer": "ipython3",
   "version": "3.8.1"
  },
  "nbTranslate": {
   "displayLangs": [
    "*"
   ],
   "hotkey": "alt-t",
   "langInMainMenu": true,
   "sourceLang": "en",
   "targetLang": "fr",
   "useGoogleTranslate": true
  },
  "toc": {
   "base_numbering": 1,
   "nav_menu": {},
   "number_sections": true,
   "sideBar": true,
   "skip_h1_title": false,
   "title_cell": "Table of Contents",
   "title_sidebar": "Contents",
   "toc_cell": false,
   "toc_position": {},
   "toc_section_display": true,
   "toc_window_display": false
  },
  "varInspector": {
   "cols": {
    "lenName": 16,
    "lenType": 16,
    "lenVar": 40
   },
   "kernels_config": {
    "python": {
     "delete_cmd_postfix": "",
     "delete_cmd_prefix": "del ",
     "library": "var_list.py",
     "varRefreshCmd": "print(var_dic_list())"
    },
    "r": {
     "delete_cmd_postfix": ") ",
     "delete_cmd_prefix": "rm(",
     "library": "var_list.r",
     "varRefreshCmd": "cat(var_dic_list()) "
    }
   },
   "types_to_exclude": [
    "module",
    "function",
    "builtin_function_or_method",
    "instance",
    "_Feature"
   ],
   "window_display": false
  }
 },
 "nbformat": 4,
 "nbformat_minor": 5
}
