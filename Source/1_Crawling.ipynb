{
 "cells": [
  {
   "cell_type": "markdown",
   "id": "578dbc0f",
   "metadata": {},
   "source": [
    "# 패캐지 import 하기"
   ]
  },
  {
   "cell_type": "code",
   "execution_count": 1,
   "id": "a01b3469",
   "metadata": {},
   "outputs": [],
   "source": [
    "from urllib.request import urlretrieve\n",
    "from urllib.parse import quote_plus\n",
    "from bs4 import BeautifulSoup as bs\n",
    "from selenium import webdriver\n",
    "import os"
   ]
  },
  {
   "cell_type": "markdown",
   "id": "270cc515",
   "metadata": {},
   "source": [
    "# url 가져오기"
   ]
  },
  {
   "cell_type": "code",
   "execution_count": 14,
   "id": "95b99b86",
   "metadata": {},
   "outputs": [
    {
     "name": "stdout",
     "output_type": "stream",
     "text": [
      "Image Name : 하정우 얼굴\n"
     ]
    }
   ],
   "source": [
    "keyword = input(\"Image Name : \")\n",
    "i_URL = f'https://www.google.com/search?q={quote_plus(keyword)}&sxsrf=ALeKk00OQamJ34t56QSInnMzwcC5gC344w:1594968011157&source=lnms&tbm=isch&sa=X&ved=2ahUKEwjXs-7t1tPqAhVF7GEKHfM4DqsQ_AUoAXoECBoQAw&biw=1536&bih=754'"
   ]
  },
  {
   "cell_type": "markdown",
   "id": "6ebc7bd4",
   "metadata": {},
   "source": [
    "# 크롬 드라이버 로딩하고 Url 접속 하기"
   ]
  },
  {
   "cell_type": "code",
   "execution_count": 15,
   "id": "9b2f2692",
   "metadata": {},
   "outputs": [
    {
     "name": "stderr",
     "output_type": "stream",
     "text": [
      "C:\\Users\\lyj\\AppData\\Local\\Temp/ipykernel_2136/3524696397.py:1: DeprecationWarning: executable_path has been deprecated, please pass in a Service object\n",
      "  driver = webdriver.Chrome('C:/Users/lyj/chromedriver.exe') #크롬 드라이버\n"
     ]
    }
   ],
   "source": [
    "driver = webdriver.Chrome('C:/Users/lyj/chromedriver.exe') #크롬 드라이버\n",
    "options = webdriver.ChromeOptions()\n",
    "options.add_experimental_option('excludeSwitches', ['enable-logging'])\n",
    "driver.get(i_URL)"
   ]
  },
  {
   "cell_type": "markdown",
   "id": "c57d569e",
   "metadata": {},
   "source": [
    "# 이미지 다운로드 하기"
   ]
  },
  {
   "cell_type": "markdown",
   "id": "20b88f45",
   "metadata": {},
   "source": [
    "## 경로 설정하기"
   ]
  },
  {
   "cell_type": "code",
   "execution_count": 16,
   "id": "5c867d32",
   "metadata": {
    "scrolled": true
   },
   "outputs": [
    {
     "data": {
      "text/plain": [
       "'./data2/하정우 얼굴_c/'"
      ]
     },
     "execution_count": 16,
     "metadata": {},
     "output_type": "execute_result"
    }
   ],
   "source": [
    "filepath = './data2/' + keyword + \"_c/\"\n",
    "filepath"
   ]
  },
  {
   "cell_type": "markdown",
   "id": "68edd559",
   "metadata": {},
   "source": [
    "## 폴더 생성하기"
   ]
  },
  {
   "cell_type": "code",
   "execution_count": 17,
   "id": "31ccaffd",
   "metadata": {},
   "outputs": [],
   "source": [
    "def createFolder(directory):\n",
    "    try:\n",
    "        if not os.path.exists(directory):\n",
    "            os.makedirs(directory)\n",
    "    except OSError:\n",
    "        print ('Error: Creating directory. ' +  directory)\n",
    "\n",
    "createFolder(filepath)"
   ]
  },
  {
   "cell_type": "markdown",
   "id": "c37cee27",
   "metadata": {},
   "source": [
    "## 이미지 다운로드"
   ]
  },
  {
   "cell_type": "code",
   "execution_count": 18,
   "id": "c3b36aa0",
   "metadata": {},
   "outputs": [
    {
     "name": "stdout",
     "output_type": "stream",
     "text": [
      "Searching...\n",
      "Downloading...\n",
      "FINISH\n"
     ]
    }
   ],
   "source": [
    "html = driver.page_source\n",
    "soup = bs(html,features = \"html.parser\")\n",
    "\n",
    "img = soup.select('img')\n",
    "\n",
    "i_list = []\n",
    "count = 1\n",
    "\n",
    "print(\"Searching...\")\n",
    "for i in img:\n",
    "    try:\n",
    "        i_list.append(i.attrs[\"src\"])\n",
    "    except KeyError:\n",
    "        i_list.append(i.attrs[\"data-src\"])\n",
    "\n",
    "print(\"Downloading...\")\n",
    "for i in i_list:\n",
    "    urlretrieve(i,filepath + keyword + str(count) + \".jpg\")\n",
    "    count+=1\n",
    "\n",
    "driver.close()\n",
    "print(\"FINISH\")"
   ]
  },
  {
   "cell_type": "code",
   "execution_count": null,
   "id": "4acb1a03",
   "metadata": {},
   "outputs": [],
   "source": []
  }
 ],
 "metadata": {
  "kernelspec": {
   "display_name": "Python 3 (ipykernel)",
   "language": "python",
   "name": "python3"
  },
  "language_info": {
   "codemirror_mode": {
    "name": "ipython",
    "version": 3
   },
   "file_extension": ".py",
   "mimetype": "text/x-python",
   "name": "python",
   "nbconvert_exporter": "python",
   "pygments_lexer": "ipython3",
   "version": "3.8.1"
  },
  "nbTranslate": {
   "displayLangs": [
    "*"
   ],
   "hotkey": "alt-t",
   "langInMainMenu": true,
   "sourceLang": "en",
   "targetLang": "fr",
   "useGoogleTranslate": true
  },
  "toc": {
   "base_numbering": 1,
   "nav_menu": {},
   "number_sections": true,
   "sideBar": true,
   "skip_h1_title": false,
   "title_cell": "Table of Contents",
   "title_sidebar": "Contents",
   "toc_cell": false,
   "toc_position": {},
   "toc_section_display": true,
   "toc_window_display": false
  },
  "varInspector": {
   "cols": {
    "lenName": 16,
    "lenType": 16,
    "lenVar": 40
   },
   "kernels_config": {
    "python": {
     "delete_cmd_postfix": "",
     "delete_cmd_prefix": "del ",
     "library": "var_list.py",
     "varRefreshCmd": "print(var_dic_list())"
    },
    "r": {
     "delete_cmd_postfix": ") ",
     "delete_cmd_prefix": "rm(",
     "library": "var_list.r",
     "varRefreshCmd": "cat(var_dic_list()) "
    }
   },
   "types_to_exclude": [
    "module",
    "function",
    "builtin_function_or_method",
    "instance",
    "_Feature"
   ],
   "window_display": false
  }
 },
 "nbformat": 4,
 "nbformat_minor": 5
}
