{
 "cells": [
  {
   "cell_type": "code",
   "execution_count": 89,
   "id": "72392f6e",
   "metadata": {},
   "outputs": [],
   "source": [
    "import tensorflow as tf\n",
    "\n",
    "model = tf.keras.models.load_model('poster1.h5')"
   ]
  },
  {
   "cell_type": "code",
   "execution_count": 90,
   "id": "0138f215",
   "metadata": {},
   "outputs": [
    {
     "name": "stdout",
     "output_type": "stream",
     "text": [
      "['a', 'b', 'c', 'd', 'e', 'f', 'g', 'h', 'i', 'j', 'k', 'l']\n"
     ]
    }
   ],
   "source": [
    "import os\n",
    "c = os.listdir(\"data2\")\n",
    "#c.remove(\".DS_Store\") #['.DS_Store', '류승룡', '오달수']\n",
    "#c.remove(\"poster\") #포스터는 실제 예측데이터로 쓸거야!\n",
    "print(c)"
   ]
  },
  {
   "cell_type": "code",
   "execution_count": 91,
   "id": "e2686afb",
   "metadata": {},
   "outputs": [
    {
     "name": "stdout",
     "output_type": "stream",
     "text": [
      "[[403 215 142 142]\n",
      " [247 427  76  76]\n",
      " [723 324  95  95]\n",
      " [866 346 102 102]\n",
      " [ 18 370 106 106]]\n"
     ]
    }
   ],
   "source": [
    "import cv2\n",
    "from matplotlib import pyplot as plt\n",
    "\n",
    "face_cascade = cv2.CascadeClassifier(cv2.data.haarcascades + 'haarcascade_frontalface_default.xml')\n",
    "eye_cascade = cv2.CascadeClassifier(cv2.data.haarcascades + 'haarcascade_eye.xml')\n",
    "\n",
    "img = cv2.imread('./poster/test1.png')\n",
    "gray = cv2.cvtColor(img, cv2.COLOR_BGR2GRAY)\n",
    "faces = face_cascade.detectMultiScale(gray, 1.3,3)\n",
    "print(faces)"
   ]
  },
  {
   "cell_type": "code",
   "execution_count": null,
   "id": "9717cc06",
   "metadata": {},
   "outputs": [],
   "source": [
    "import os\n",
    "def detect(detect_img):\n",
    "    detect_img = np.asarray(detect_img)/255.0\n",
    "    a = detect_img.reshape(1,-1,60,3)\n",
    "    label = \" \"\n",
    "    pred = model.predict(a)\n",
    "    max = np.max(pred)\n",
    "    idx = np.argmax(pred)\n",
    "    label = c[idx]\n",
    "    return label, max"
   ]
  },
  {
   "cell_type": "code",
   "execution_count": 92,
   "id": "1af83bf8",
   "metadata": {},
   "outputs": [],
   "source": [
    "from matplotlib import font_manager, rc\n",
    "import platform \n",
    "\n",
    "if platform.system() == 'Windows': \n",
    "    font_path = 'c:/Windows/Fonts/malgun.ttf'\n",
    "    font_name = font_manager.FontProperties(fname = font_path).get_name()\n",
    "    rc('font', family = font_name)\n",
    "elif platform.system() == 'Darwin':\n",
    "    font_path = '/System/Library/Fonts/Supplemental/AppleGothic.ttf'\n",
    "    rc('font', family='AppleGothic')\n",
    "else: \n",
    "    print('Check your OS system')"
   ]
  },
  {
   "cell_type": "code",
   "execution_count": 93,
   "id": "0f2f5cec",
   "metadata": {},
   "outputs": [],
   "source": [
    "from PIL import ImageFont, ImageDraw,Image"
   ]
  },
  {
   "cell_type": "code",
   "execution_count": 94,
   "id": "3f04d391",
   "metadata": {},
   "outputs": [],
   "source": [
    "import unicodedata"
   ]
  },
  {
   "cell_type": "code",
   "execution_count": 95,
   "id": "666b1bbb",
   "metadata": {},
   "outputs": [],
   "source": [
    "labels = []"
   ]
  },
  {
   "cell_type": "code",
   "execution_count": 96,
   "id": "a4bfd48e",
   "metadata": {},
   "outputs": [],
   "source": [
    "result = {'a' : '김향기', 'b' : '류승룡', 'c' : '마동석', 'd' : '설경구', 'e' : '송강호', 'f' : '오달수', 'g' : '유해진', 'h' : '이정재',\n",
    "         'g' : '전지현', 'h' : '정진영', 'i' : '하정우', 'j' : '황정민'}"
   ]
  },
  {
   "cell_type": "code",
   "execution_count": 97,
   "id": "c6f09cfb",
   "metadata": {},
   "outputs": [
    {
     "name": "stdout",
     "output_type": "stream",
     "text": [
      "a\n",
      "uni1 :  Unknown\n",
      "uni2 :  Unknown\n",
      "a\n",
      "uni1 :  Unknown\n",
      "uni2 :  Unknown\n",
      "g\n",
      "uni1 :  전지현\n",
      "uni2 :  전지현\n",
      "c\n",
      "uni1 :  마동석\n",
      "uni2 :  마동석\n",
      "j\n",
      "uni1 :  Unknown\n",
      "uni2 :  Unknown\n"
     ]
    },
    {
     "data": {
      "text/plain": [
       "-1"
      ]
     },
     "execution_count": 97,
     "metadata": {},
     "output_type": "execute_result"
    }
   ],
   "source": [
    "from PIL import ImageFont, ImageDraw,Image\n",
    "detect_img = []\n",
    "white_color = (255, 255, 255)\n",
    "\n",
    "img_list = []\n",
    "pred_max_list = []\n",
    "\n",
    "for (x,y,w,h) in faces:\n",
    "    \n",
    "    cropped_c = img[y : y + h, x : x + w] # 사각형 없는 이미지로 따서 img_list 에 추가\n",
    "    \n",
    "    cv2.rectangle(img, (x,y), (x+w, y+h), (255,0,0),2)\n",
    "    \n",
    "   # cropped = img[y - int(h/4):y + h + int(h/4), x - int(w/4):x + w + int(w/4)]\n",
    "    \n",
    "    cropped = img[y : y + h, x : x + w]\n",
    "    cropped = cv2.cvtColor(cropped, cv2.COLOR_RGB2BGR)\n",
    "    \n",
    "    cropped = cv2.resize(cropped, (60, 60))\n",
    "\n",
    "    cropped.reshape(-1, 60, 60, 3)\n",
    "    \n",
    "    #cropped = cv2.resize(cropped,(60, 60))\n",
    "    \n",
    "    \n",
    "    # 한글 Text 설정을 위한 Pillow \n",
    "    img = Image.fromarray(img)\n",
    "    draw = ImageDraw.Draw(img)\n",
    "    \n",
    "    # 한글 폰트 설정\n",
    "    font = ImageFont.truetype(font_path, 15)\n",
    "    \n",
    "    # 레이블 인덱스, 최대 값 가져오기\n",
    "    label, pred_max = detect(cropped)\n",
    "    labels.append(label)\n",
    "    pred_max_list.append(pred_max)\n",
    "\n",
    "    if (pred_max >= 0.85):\n",
    "        name = result[label]\n",
    "    else:\n",
    "        name = \"Unknown\"\n",
    "        \n",
    "    # ㅎ ㅏ ㅈ ㅓ ㅇ ㅇ ㅜ 로 나오는 한글 깨짐 설정\n",
    "    uni1 = unicodedata.normalize('NFD',name)\n",
    "    uni2 = unicodedata.normalize('NFC',uni1)\n",
    "        \n",
    "    # 이미지에 배우 이름 표시\n",
    "    draw.text((x,y), uni2, font = font, fill = (255,255,255))\n",
    "    img = np.array(img)\n",
    "\n",
    "    detect_img.append(cropped)\n",
    "    #print(detect(cropped))\n",
    "    \n",
    "    roi_gray = gray[y:y+h, x:x+w]\n",
    "    roi_color = img[y:y+h, x:x+w]\n",
    "    \n",
    "    cropped_c = cv2.cvtColor(cropped_c, cv2.COLOR_BGR2RGB)\n",
    "    img_list.append(cropped_c)\n",
    "    \n",
    "\n",
    "cv2.imshow('Image view', img)저장\n",
    "cv2.waitKey(0)\n",
    "cv2.destroyAllWindows()\n",
    "cv2.waitKey(1)"
   ]
  },
  {
   "cell_type": "code",
   "execution_count": null,
   "id": "0339efc8",
   "metadata": {},
   "outputs": [],
   "source": [
    "for key in result.keys():\n",
    "    print(key)"
   ]
  },
  {
   "cell_type": "code",
   "execution_count": null,
   "id": "21061996",
   "metadata": {},
   "outputs": [],
   "source": []
  },
  {
   "cell_type": "code",
   "execution_count": null,
   "id": "6a7b2554",
   "metadata": {},
   "outputs": [],
   "source": []
  },
  {
   "cell_type": "code",
   "execution_count": null,
   "id": "7171747e",
   "metadata": {},
   "outputs": [],
   "source": []
  },
  {
   "cell_type": "markdown",
   "id": "2995af03",
   "metadata": {},
   "source": [
    "### 출연자 명단 출력"
   ]
  },
  {
   "cell_type": "code",
   "execution_count": null,
   "id": "49a0026c",
   "metadata": {},
   "outputs": [],
   "source": [
    "from matplotlib import font_manager, rc\n",
    "font_path = \"C:/Windows/Fonts/malgun.ttf\"\n",
    "font = font_manager.FontProperties(fname = font_path).get_name()\n",
    "rc('font', family = font)\n",
    "\n",
    "\n",
    "poster_img = cv2.cvtColor(img, cv2.COLOR_RGB2BGR) # 포스터 이미지 원본\n",
    "plt.imshow(poster_img)\n",
    "ax = plt.gca()\n",
    "ax.axes.xaxis.set_visible(False)\n",
    "ax.axes.yaxis.set_visible(False)\n",
    "plt.show()\n",
    "\n",
    "\n",
    "print(\"\\n********************** 출연자 명단 **********************\")\n",
    "\n",
    "num = 0\n",
    "plot_num = 1\n",
    "for test_img_t in img_list: # 포스터 얼굴\n",
    "    \n",
    "    \n",
    "    if (pred_max_list[num] >= 0.85):\n",
    "        name = labels[num]\n",
    "        res = result[name]\n",
    "    else:\n",
    "        res = \"Unknown\"\n",
    "    \n",
    "    w_num = (int(len(img_list) / 3) + 1)\n",
    "    \n",
    "    plt.subplot(w_num, 3, plot_num)\n",
    "    plt.title(res)\n",
    "    plt.imshow(test_img_t)\n",
    "    \n",
    "    # 축 눈금 감추기\n",
    "    ax = plt.gca()\n",
    "    ax.axes.xaxis.set_visible(False)\n",
    "    ax.axes.yaxis.set_visible(False)\n",
    "    \n",
    "    num += 1\n",
    "    plot_num += 1\n",
    "\n",
    "plt.tight_layout()\n",
    "plt.show()"
   ]
  },
  {
   "cell_type": "code",
   "execution_count": null,
   "id": "343ced2b",
   "metadata": {},
   "outputs": [],
   "source": []
  },
  {
   "cell_type": "code",
   "execution_count": null,
   "id": "36014467",
   "metadata": {},
   "outputs": [],
   "source": [
    "a"
   ]
  }
 ],
 "metadata": {
  "kernelspec": {
   "display_name": "Python 3 (ipykernel)",
   "language": "python",
   "name": "python3"
  },
  "language_info": {
   "codemirror_mode": {
    "name": "ipython",
    "version": 3
   },
   "file_extension": ".py",
   "mimetype": "text/x-python",
   "name": "python",
   "nbconvert_exporter": "python",
   "pygments_lexer": "ipython3",
   "version": "3.8.1"
  },
  "nbTranslate": {
   "displayLangs": [
    "*"
   ],
   "hotkey": "alt-t",
   "langInMainMenu": true,
   "sourceLang": "en",
   "targetLang": "fr",
   "useGoogleTranslate": true
  },
  "toc": {
   "base_numbering": 1,
   "nav_menu": {},
   "number_sections": true,
   "sideBar": true,
   "skip_h1_title": false,
   "title_cell": "Table of Contents",
   "title_sidebar": "Contents",
   "toc_cell": false,
   "toc_position": {},
   "toc_section_display": true,
   "toc_window_display": false
  },
  "varInspector": {
   "cols": {
    "lenName": 16,
    "lenType": 16,
    "lenVar": 40
   },
   "kernels_config": {
    "python": {
     "delete_cmd_postfix": "",
     "delete_cmd_prefix": "del ",
     "library": "var_list.py",
     "varRefreshCmd": "print(var_dic_list())"
    },
    "r": {
     "delete_cmd_postfix": ") ",
     "delete_cmd_prefix": "rm(",
     "library": "var_list.r",
     "varRefreshCmd": "cat(var_dic_list()) "
    }
   },
   "types_to_exclude": [
    "module",
    "function",
    "builtin_function_or_method",
    "instance",
    "_Feature"
   ],
   "window_display": false
  }
 },
 "nbformat": 4,
 "nbformat_minor": 5
}
